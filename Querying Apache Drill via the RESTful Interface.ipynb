{
 "cells": [
  {
   "cell_type": "markdown",
   "metadata": {},
   "source": [
    "# Querying Apache Drill via the RESTful Interface\n"
   ]
  },
  {
   "cell_type": "code",
   "execution_count": 1,
   "metadata": {
    "collapsed": true
   },
   "outputs": [],
   "source": [
    "import requests\n",
    "import pandas as pd\n",
    "import json"
   ]
  },
  {
   "cell_type": "markdown",
   "metadata": {},
   "source": [
    "This notebook demonstrates how to query Apache Drill using the RESTFul interface that is a part of Drill.  In order to use this you will need:\n",
    "1.  The pandas module:  Pandas is really optional, but it makes the subsequent manipulation easier. \n",
    "2.  To make sure that your instance of drill is running\n",
    "\n",
    "The URL should be the URL of your Drill client.  You'll also need to also specify a query in the ```employee_query``` variable.\n",
    "\n",
    "The RESTFul interface requires you to submit your queries via the POST method.  Additionally, you'll have to set two varialbles in the POST body: queryType=\"SQL\" and query to the value of your query. You'll also have to set the ```Content-type``` variable in the header to ```application/json```.\n",
    "\n"
   ]
  },
  {
   "cell_type": "code",
   "execution_count": 5,
   "metadata": {
    "collapsed": true
   },
   "outputs": [],
   "source": [
    "url = \"http://localhost:8047/query.json\"\n",
    "employee_query = \"\"\"SELECT management_role, COUNT( employee_id ) as roleCount\n",
    "FROM cp.`employee.json`\n",
    "GROUP BY management_role\n",
    "ORDER BY roleCount DESC\"\"\"\n",
    "\n",
    "data = {\"queryType\" : \"SQL\", \"query\": employee_query }\n",
    "data_json = json.dumps(data)\n",
    "headers = {'Content-type': 'application/json'}\n",
    "\n",
    "\n"
   ]
  },
  {
   "cell_type": "markdown",
   "metadata": {},
   "source": [
    "## Make the Request\n",
    "The next step is to actually make the request.  \n",
    "```python\n",
    "response = requests.post(url, data=data_json, headers=headers)\n",
    "```\n",
    "This line makes the request using the ```POST``` method, passes the headers, and query data.  At this point, you have the data in JSON format in the ```response.json()``` variable.  You can do whatever you want with it, but it works really nicely to put this JSON into a Pandas DataFrame."
   ]
  },
  {
   "cell_type": "code",
   "execution_count": 7,
   "metadata": {
    "collapsed": false
   },
   "outputs": [
    {
     "name": "stdout",
     "output_type": "stream",
     "text": [
      "        management_role roleCount\n",
      "0  Store Full Time Staf       764\n",
      "1      Store Temp Staff       264\n",
      "2      Store Management       100\n",
      "3     Middle Management        17\n",
      "4     Senior Management        10\n"
     ]
    }
   ],
   "source": [
    "response = requests.post(url, data=data_json, headers=headers)\n",
    "df = pd.DataFrame( response.json()['rows'] )\n",
    "print( df.head() )\n",
    "\n",
    "\n"
   ]
  },
  {
   "cell_type": "code",
   "execution_count": null,
   "metadata": {
    "collapsed": true
   },
   "outputs": [],
   "source": []
  }
 ],
 "metadata": {
  "kernelspec": {
   "display_name": "Python 3",
   "language": "python",
   "name": "python3"
  },
  "language_info": {
   "codemirror_mode": {
    "name": "ipython",
    "version": 3
   },
   "file_extension": ".py",
   "mimetype": "text/x-python",
   "name": "python",
   "nbconvert_exporter": "python",
   "pygments_lexer": "ipython3",
   "version": "3.4.3"
  }
 },
 "nbformat": 4,
 "nbformat_minor": 0
}
